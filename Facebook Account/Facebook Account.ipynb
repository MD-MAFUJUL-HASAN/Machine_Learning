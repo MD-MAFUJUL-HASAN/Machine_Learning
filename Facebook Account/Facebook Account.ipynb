{
 "cells": [
  {
   "cell_type": "code",
   "execution_count": 1,
   "id": "3a34aabe",
   "metadata": {},
   "outputs": [],
   "source": [
    "#Importing essential libraries\n",
    "\n",
    "import numpy as np\n",
    "import pandas as pd"
   ]
  },
  {
   "cell_type": "markdown",
   "id": "5bc5ca43",
   "metadata": {},
   "source": [
    "#                                             ______A_______"
   ]
  },
  {
   "cell_type": "code",
   "execution_count": 2,
   "id": "d626dab1",
   "metadata": {},
   "outputs": [
    {
     "name": "stdout",
     "output_type": "stream",
     "text": [
      "Name : MD MAFUJUL HASAN\n",
      "ID : CSE1903018137\n",
      "Section : 18A\n",
      "Course Code : CSE424\n",
      "Course Title : Simulation & Modeling Sessional\n"
     ]
    }
   ],
   "source": [
    "#Print name,id,section,course code and course title\n",
    "\n",
    "print('Name : MD MAFUJUL HASAN')\n",
    "print('ID : CSE1903018137')\n",
    "print('Section : 18A')\n",
    "print('Course Code : CSE424')\n",
    "print('Course Title : Simulation & Modeling Sessional')"
   ]
  },
  {
   "cell_type": "markdown",
   "id": "4a69024d",
   "metadata": {},
   "source": [
    "#                                             ______B_______"
   ]
  },
  {
   "cell_type": "code",
   "execution_count": 3,
   "id": "148e40c8",
   "metadata": {},
   "outputs": [],
   "source": [
    "#Loading the dataset\n",
    "\n",
    "data=pd.read_csv(\"age-facebook.csv\")"
   ]
  },
  {
   "cell_type": "code",
   "execution_count": 4,
   "id": "d3424230",
   "metadata": {},
   "outputs": [
    {
     "name": "stdout",
     "output_type": "stream",
     "text": [
      "   age  has_facebook_account\n",
      "0   24                   1.0\n",
      "1   21                   1.0\n",
      "2   10                   0.0\n"
     ]
    }
   ],
   "source": [
    "print(data.head(3))  # displays the first 3 rows of the dataset"
   ]
  },
  {
   "cell_type": "code",
   "execution_count": 5,
   "id": "4bae3afe",
   "metadata": {},
   "outputs": [
    {
     "name": "stdout",
     "output_type": "stream",
     "text": [
      "    age  has_facebook_account\n",
      "17   26                   1.0\n",
      "18   22                   NaN\n",
      "19   23                   1.0\n"
     ]
    }
   ],
   "source": [
    "print(data.tail(3))  # displays the last 3 rows of the dataset"
   ]
  },
  {
   "cell_type": "markdown",
   "id": "9e3b4c14",
   "metadata": {},
   "source": [
    "#                                             ______C_______"
   ]
  },
  {
   "cell_type": "code",
   "execution_count": 6,
   "id": "d27191d6",
   "metadata": {},
   "outputs": [
    {
     "name": "stdout",
     "output_type": "stream",
     "text": [
      "(20, 2)\n"
     ]
    }
   ],
   "source": [
    "    # Exploring the Dataset\n",
    "#Returns number of rows and columns of the dataset\n",
    "\n",
    "print(data.shape)"
   ]
  },
  {
   "cell_type": "code",
   "execution_count": 7,
   "id": "902b241b",
   "metadata": {},
   "outputs": [
    {
     "name": "stdout",
     "output_type": "stream",
     "text": [
      "    age  has_facebook_account\n",
      "0    24                   1.0\n",
      "1    21                   1.0\n",
      "2    10                   0.0\n",
      "3    58                   1.0\n",
      "4    16                   0.0\n",
      "5    56                   0.0\n",
      "6    28                   1.0\n",
      "7    13                   0.0\n",
      "8    18                   1.0\n",
      "9    17                   1.0\n",
      "10   80                   0.0\n",
      "11   12                   0.0\n",
      "12   44                   1.0\n",
      "13    6                   0.0\n",
      "14   25                   1.0\n",
      "15   67                   0.0\n",
      "16    1                   0.0\n",
      "17   26                   1.0\n",
      "18   22                   NaN\n",
      "19   23                   1.0\n"
     ]
    }
   ],
   "source": [
    "#Printing total data\n",
    "\n",
    "print(data)"
   ]
  },
  {
   "cell_type": "markdown",
   "id": "678483e5",
   "metadata": {},
   "source": [
    "#                                             ______D_______"
   ]
  },
  {
   "cell_type": "code",
   "execution_count": 8,
   "id": "e2c1dc13",
   "metadata": {},
   "outputs": [
    {
     "name": "stdout",
     "output_type": "stream",
     "text": [
      "Total number of missing values in the dataset: 1\n"
     ]
    }
   ],
   "source": [
    "#Total missing number of data\n",
    "\n",
    "missing_data = data.isnull()\n",
    "num_missing = missing_data.sum().sum()\n",
    "print(\"Total number of missing values in the dataset:\", num_missing)"
   ]
  },
  {
   "cell_type": "markdown",
   "id": "e4203295",
   "metadata": {},
   "source": [
    "#                                             ______E_______"
   ]
  },
  {
   "cell_type": "code",
   "execution_count": 9,
   "id": "2f358a1a",
   "metadata": {},
   "outputs": [
    {
     "name": "stdout",
     "output_type": "stream",
     "text": [
      "    age  has_facebook_account\n",
      "0    24                   1.0\n",
      "1    21                   1.0\n",
      "2    10                   0.0\n",
      "3    58                   1.0\n",
      "4    16                   0.0\n",
      "5    56                   0.0\n",
      "6    28                   1.0\n",
      "7    13                   0.0\n",
      "8    18                   1.0\n",
      "9    17                   1.0\n",
      "10   80                   0.0\n",
      "11   12                   0.0\n",
      "12   44                   1.0\n",
      "13    6                   0.0\n",
      "14   25                   1.0\n",
      "15   67                   0.0\n",
      "16    1                   0.0\n",
      "17   26                   1.0\n",
      "18   22                   1.0\n",
      "19   23                   1.0\n"
     ]
    }
   ],
   "source": [
    "#Fill missing Data \n",
    "\n",
    "columns_with_missing_values = data.columns[data.isnull().any()]     #Identify the columns that contain missing values\n",
    "for column in columns_with_missing_values:\n",
    "    data[column].fillna(data[column].median(), inplace=True)    #filling missing values with the median\n",
    "data.to_csv('New_age_facebook.csv', index=False)    #save the modified dataset to a new file\n",
    "\n",
    "#Printing total new data\n",
    "\n",
    "print(data)"
   ]
  },
  {
   "cell_type": "markdown",
   "id": "13577b8d",
   "metadata": {},
   "source": [
    "#                                             ______F_______"
   ]
  },
  {
   "cell_type": "code",
   "execution_count": 10,
   "id": "26ee1206",
   "metadata": {},
   "outputs": [],
   "source": [
    "# Importing essential libraries\n",
    "\n",
    "import matplotlib.pyplot as plt"
   ]
  },
  {
   "cell_type": "code",
   "execution_count": 11,
   "id": "d92c6518",
   "metadata": {},
   "outputs": [
    {
     "data": {
      "image/png": "[encoded data removed]",
      "text/plain": [
       "<Figure size 432x288 with 1 Axes>"
      ]
     },
     "metadata": {
      "needs_background": "light"
     },
     "output_type": "display_data"
    }
   ],
   "source": [
    "# Data Visualization after missing data\n",
    "\n",
    "plt.scatter(data['age'], data['has_facebook_account'])\n",
    "plt.xlabel('age')\n",
    "plt.ylabel('has_facebook_account')\n",
    "plt.title('Facebook Account')\n",
    "plt.show()"
   ]
  },
  {
   "cell_type": "markdown",
   "id": "fc0ae44d",
   "metadata": {},
   "source": [
    "#                                             ______G_______"
   ]
  },
  {
   "cell_type": "code",
   "execution_count": 12,
   "id": "aaebda50",
   "metadata": {},
   "outputs": [
    {
     "name": "stdout",
     "output_type": "stream",
     "text": [
      "Total Percentage of Facebook Users which age is between 0-14 years = 0.00% \n"
     ]
    }
   ],
   "source": [
    "#Calculation Total Percentage of Facebook Users which age is between 0-14 years\n",
    "\n",
    "filtered_data = len(data[(data['age'] >= 0) & (data['age'] <= 14) & (data['has_facebook_account'] == 1)])   # Filter the dataset\n",
    "print('Total Percentage of Facebook Users which age is between 0-14 years = {:.2f}% '.format((filtered_data / (len(data.has_facebook_account))*100)))"
   ]
  },
  {
   "cell_type": "code",
   "execution_count": 13,
   "id": "8990f8f5",
   "metadata": {},
   "outputs": [
    {
     "name": "stdout",
     "output_type": "stream",
     "text": [
      "Total Percentage of Facebook Users which age is between 18-28 years = 40.00% \n"
     ]
    }
   ],
   "source": [
    "#Calculation Total Percentage of Facebook Users which age is between 18-28 years\n",
    "\n",
    "filtered_data = len(data[(data['age'] >= 18) & (data['age'] <= 28) & (data['has_facebook_account'] == 1)])   # Filter the dataset\n",
    "print('Total Percentage of Facebook Users which age is between 18-28 years = {:.2f}% '.format((filtered_data / (len(data.has_facebook_account))*100)))"
   ]
  },
  {
   "cell_type": "code",
   "execution_count": 14,
   "id": "ca88a330",
   "metadata": {},
   "outputs": [
    {
     "name": "stdout",
     "output_type": "stream",
     "text": [
      "Total Percentage of Facebook Users which age is 30+ years = 10.00% \n"
     ]
    }
   ],
   "source": [
    "#Calculation Total Percentage of Facebook Users which age is 30+ years\n",
    "\n",
    "filtered_data = len(data[(data['age'] >= 30) & (data['has_facebook_account'] == 1)])    # Filter the dataset\n",
    "print('Total Percentage of Facebook Users which age is 30+ years = {:.2f}% '.format((filtered_data / (len(data.has_facebook_account))*100)))"
   ]
  },
  {
   "cell_type": "markdown",
   "id": "513f8f2d",
   "metadata": {},
   "source": [
    "#                                             ______H_______"
   ]
  },
  {
   "cell_type": "code",
   "execution_count": 15,
   "id": "7dce0f05",
   "metadata": {},
   "outputs": [
    {
     "data": {
      "image/png": "[encoded data removed]",
      "text/plain": [
       "<Figure size 576x288 with 1 Axes>"
      ]
     },
     "metadata": {},
     "output_type": "display_data"
    }
   ],
   "source": [
    "import matplotlib.pyplot as plt\n",
    "labels = ['Yes', 'No']\n",
    "values = data['has_facebook_account'].value_counts().values\n",
    "plt.rcParams[\"figure.figsize\"] = (8,4)\n",
    "plt.pie(values, labels=labels, autopct='%1.1f%%', textprops = {\"fontsize\" : 15})\n",
    "plt.title('Facebook Account', fontsize=20)\n",
    "plt.show()"
   ]
  },
  {
   "cell_type": "markdown",
   "id": "9f61019b",
   "metadata": {},
   "source": [
    "#                                             ______I_______"
   ]
  },
  {
   "cell_type": "code",
   "execution_count": 16,
   "id": "af284e03",
   "metadata": {},
   "outputs": [],
   "source": [
    "#Import the necessary libraries\n",
    "\n",
    "from sklearn.linear_model import LinearRegression     # Creating Linear Regression Model\n",
    "from sklearn.model_selection import train_test_split    # Splitting the dataset into train and test samples"
   ]
  },
  {
   "cell_type": "code",
   "execution_count": 17,
   "id": "4b63e711",
   "metadata": {},
   "outputs": [],
   "source": [
    "# Choose the input variable and output variable\n",
    "\n",
    "X = data[['age']]\n",
    "y = data['has_facebook_account']"
   ]
  },
  {
   "cell_type": "code",
   "execution_count": 18,
   "id": "a6b14353",
   "metadata": {},
   "outputs": [],
   "source": [
    "X_train, X_test, y_train, y_test = train_test_split(X, y, test_size=0.30, random_state=1)    #split the dataset"
   ]
  },
  {
   "cell_type": "code",
   "execution_count": 19,
   "id": "73a7ef3e",
   "metadata": {},
   "outputs": [],
   "source": [
    "# Create a linear regression model\n",
    "\n",
    "model = LinearRegression()"
   ]
  },
  {
   "cell_type": "code",
   "execution_count": 20,
   "id": "2a6e1cad",
   "metadata": {},
   "outputs": [
    {
     "data": {
      "text/plain": [
       "LinearRegression()"
      ]
     },
     "execution_count": 20,
     "metadata": {},
     "output_type": "execute_result"
    }
   ],
   "source": [
    "# Train the linear regression model on the training data\n",
    "\n",
    "model.fit(X_train, y_train)"
   ]
  },
  {
   "cell_type": "markdown",
   "id": "2602e7e0",
   "metadata": {},
   "source": [
    "#                                             ______J_______"
   ]
  },
  {
   "cell_type": "code",
   "execution_count": 21,
   "id": "452a59a4",
   "metadata": {},
   "outputs": [
    {
     "name": "stdout",
     "output_type": "stream",
     "text": [
      "Predict Facebook Account for 7 years of age: 0.6366417708989471\n",
      "Predict Facebook Account for 29 years of age: 0.5614145595248807\n",
      "Predict Facebook Account for 79 years of age: 0.39044362458382076\n"
     ]
    }
   ],
   "source": [
    "# Predict Facebook Account for the three persons given age 7, 29 and 79 in the dataset\n",
    "\n",
    "new_data = pd.DataFrame({'age': [7, 29, 79]})\n",
    "Has_Facebook_Account = model.predict(new_data)\n",
    "print('Predict Facebook Account for 7 years of age:', Has_Facebook_Account[0])\n",
    "print('Predict Facebook Account for 29 years of age:', Has_Facebook_Account[1])\n",
    "print('Predict Facebook Account for 79 years of age:', Has_Facebook_Account[2])"
   ]
  },
  {
   "cell_type": "markdown",
   "id": "e8490aff",
   "metadata": {},
   "source": [
    "#                                             ______K_______"
   ]
  },
  {
   "cell_type": "code",
   "execution_count": 22,
   "id": "57c02fa7",
   "metadata": {},
   "outputs": [],
   "source": [
    "# Use the trained model to make predictions on the test data\n",
    "\n",
    "y_pred = model.predict(X_test)"
   ]
  },
  {
   "cell_type": "code",
   "execution_count": 23,
   "id": "e15dfba0",
   "metadata": {},
   "outputs": [
    {
     "name": "stdout",
     "output_type": "stream",
     "text": [
      "Mean squared error: 0.27218177777950164\n",
      "R-squared: -0.08872711111800657\n"
     ]
    }
   ],
   "source": [
    "#Find Accuracy For regression models\n",
    "\n",
    "from sklearn.metrics import mean_squared_error, r2_score\n",
    "\n",
    "# y_test is the true labels, y_pred is the predicted labels\n",
    "mse = mean_squared_error(y_test, y_pred)\n",
    "r2 = r2_score(y_test, y_pred)\n",
    "\n",
    "print('Mean squared error:', mse)\n",
    "print('R-squared:', r2)"
   ]
  }
 ],
 "metadata": {
  "kernelspec": {
   "display_name": "Python 3 (ipykernel)",
   "language": "python",
   "name": "python3"
  },
  "language_info": {
   "codemirror_mode": {
    "name": "ipython",
    "version": 3
   },
   "file_extension": ".py",
   "mimetype": "text/x-python",
   "name": "python",
   "nbconvert_exporter": "python",
   "pygments_lexer": "ipython3",
   "version": "3.9.7"
  }
 },
 "nbformat": 4,
 "nbformat_minor": 5
}
