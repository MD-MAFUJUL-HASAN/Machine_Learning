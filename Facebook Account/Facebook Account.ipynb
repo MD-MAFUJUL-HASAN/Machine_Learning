{
 "cells": [
  {
   "cell_type": "code",
   "execution_count": 1,
   "id": "3a34aabe",
   "metadata": {},
   "outputs": [
    {
     "name": "stdout",
     "output_type": "stream",
     "text": [
      "Name : MD MAFUJUL HASAN\n",
      "ID : CSE1903018137\n",
      "Section : 18A\n",
      "Course Code : CSE424\n",
      "Course Title : Simulation & Modeling Sessional\n"
     ]
    }
   ],
   "source": [
    "#Print name,id,section,course code and course title\n",
    "\n",
    "print('Name : MD MAFUJUL HASAN')\n",
    "print('ID : CSE1903018137')\n",
    "print('Section : 18A')\n",
    "print('Course Code : CSE424')\n",
    "print('Course Title : Simulation & Modeling Sessional')"
   ]
  },
  {
   "cell_type": "markdown",
   "id": "5bc5ca43",
   "metadata": {},
   "source": [
    "#                                             ______A_______"
   ]
  },
  {
   "cell_type": "code",
   "execution_count": 2,
   "id": "d626dab1",
   "metadata": {},
   "outputs": [],
   "source": [
    "#Importing essential libraries\n",
    "\n",
    "import numpy as np\n",
    "import pandas as pd"
   ]
  },
  {
   "cell_type": "markdown",
   "id": "4a69024d",
   "metadata": {},
   "source": [
    "#                                             ______B_______"
   ]
  },
  {
   "cell_type": "code",
   "execution_count": 3,
   "id": "148e40c8",
   "metadata": {},
   "outputs": [],
   "source": [
    "#Loading the dataset\n",
    "\n",
    "data=pd.read_csv(\"age-facebook.csv\")"
   ]
  },
  {
   "cell_type": "code",
   "execution_count": 4,
   "id": "d3424230",
   "metadata": {},
   "outputs": [
    {
     "data": {
      "text/html": [
       "<div>\n",
       "<style scoped>\n",
       "    .dataframe tbody tr th:only-of-type {\n",
       "        vertical-align: middle;\n",
       "    }\n",
       "\n",
       "    .dataframe tbody tr th {\n",
       "        vertical-align: top;\n",
       "    }\n",
       "\n",
       "    .dataframe thead th {\n",
       "        text-align: right;\n",
       "    }\n",
       "</style>\n",
       "<table border=\"1\" class=\"dataframe\">\n",
       "  <thead>\n",
       "    <tr style=\"text-align: right;\">\n",
       "      <th></th>\n",
       "      <th>age</th>\n",
       "      <th>has_facebook_account</th>\n",
       "    </tr>\n",
       "  </thead>\n",
       "  <tbody>\n",
       "    <tr>\n",
       "      <th>0</th>\n",
       "      <td>24</td>\n",
       "      <td>1.0</td>\n",
       "    </tr>\n",
       "    <tr>\n",
       "      <th>1</th>\n",
       "      <td>21</td>\n",
       "      <td>1.0</td>\n",
       "    </tr>\n",
       "    <tr>\n",
       "      <th>2</th>\n",
       "      <td>10</td>\n",
       "      <td>0.0</td>\n",
       "    </tr>\n",
       "  </tbody>\n",
       "</table>\n",
       "</div>"
      ],
      "text/plain": [
       "   age  has_facebook_account\n",
       "0   24                   1.0\n",
       "1   21                   1.0\n",
       "2   10                   0.0"
      ]
     },
     "execution_count": 4,
     "metadata": {},
     "output_type": "execute_result"
    }
   ],
   "source": [
    "data.head(3)  # displays the first 3 rows of the dataset"
   ]
  },
  {
   "cell_type": "code",
   "execution_count": 5,
   "id": "4bae3afe",
   "metadata": {},
   "outputs": [
    {
     "data": {
      "text/html": [
       "<div>\n",
       "<style scoped>\n",
       "    .dataframe tbody tr th:only-of-type {\n",
       "        vertical-align: middle;\n",
       "    }\n",
       "\n",
       "    .dataframe tbody tr th {\n",
       "        vertical-align: top;\n",
       "    }\n",
       "\n",
       "    .dataframe thead th {\n",
       "        text-align: right;\n",
       "    }\n",
       "</style>\n",
       "<table border=\"1\" class=\"dataframe\">\n",
       "  <thead>\n",
       "    <tr style=\"text-align: right;\">\n",
       "      <th></th>\n",
       "      <th>age</th>\n",
       "      <th>has_facebook_account</th>\n",
       "    </tr>\n",
       "  </thead>\n",
       "  <tbody>\n",
       "    <tr>\n",
       "      <th>17</th>\n",
       "      <td>26</td>\n",
       "      <td>1.0</td>\n",
       "    </tr>\n",
       "    <tr>\n",
       "      <th>18</th>\n",
       "      <td>22</td>\n",
       "      <td>NaN</td>\n",
       "    </tr>\n",
       "    <tr>\n",
       "      <th>19</th>\n",
       "      <td>23</td>\n",
       "      <td>1.0</td>\n",
       "    </tr>\n",
       "  </tbody>\n",
       "</table>\n",
       "</div>"
      ],
      "text/plain": [
       "    age  has_facebook_account\n",
       "17   26                   1.0\n",
       "18   22                   NaN\n",
       "19   23                   1.0"
      ]
     },
     "execution_count": 5,
     "metadata": {},
     "output_type": "execute_result"
    }
   ],
   "source": [
    "data.tail(3)  # displays the last 3 rows of the dataset"
   ]
  },
  {
   "cell_type": "markdown",
   "id": "9e3b4c14",
   "metadata": {},
   "source": [
    "#                                             ______C_______"
   ]
  },
  {
   "cell_type": "code",
   "execution_count": 6,
   "id": "d27191d6",
   "metadata": {},
   "outputs": [
    {
     "data": {
      "text/plain": [
       "(20, 2)"
      ]
     },
     "execution_count": 6,
     "metadata": {},
     "output_type": "execute_result"
    }
   ],
   "source": [
    "    # Exploring the Dataset\n",
    "#Returns number of rows and columns of the dataset\n",
    "\n",
    "data.shape"
   ]
  },
  {
   "cell_type": "code",
   "execution_count": 7,
   "id": "902b241b",
   "metadata": {},
   "outputs": [
    {
     "data": {
      "text/html": [
       "<div>\n",
       "<style scoped>\n",
       "    .dataframe tbody tr th:only-of-type {\n",
       "        vertical-align: middle;\n",
       "    }\n",
       "\n",
       "    .dataframe tbody tr th {\n",
       "        vertical-align: top;\n",
       "    }\n",
       "\n",
       "    .dataframe thead th {\n",
       "        text-align: right;\n",
       "    }\n",
       "</style>\n",
       "<table border=\"1\" class=\"dataframe\">\n",
       "  <thead>\n",
       "    <tr style=\"text-align: right;\">\n",
       "      <th></th>\n",
       "      <th>age</th>\n",
       "      <th>has_facebook_account</th>\n",
       "    </tr>\n",
       "  </thead>\n",
       "  <tbody>\n",
       "    <tr>\n",
       "      <th>0</th>\n",
       "      <td>24</td>\n",
       "      <td>1.0</td>\n",
       "    </tr>\n",
       "    <tr>\n",
       "      <th>1</th>\n",
       "      <td>21</td>\n",
       "      <td>1.0</td>\n",
       "    </tr>\n",
       "    <tr>\n",
       "      <th>2</th>\n",
       "      <td>10</td>\n",
       "      <td>0.0</td>\n",
       "    </tr>\n",
       "    <tr>\n",
       "      <th>3</th>\n",
       "      <td>58</td>\n",
       "      <td>1.0</td>\n",
       "    </tr>\n",
       "    <tr>\n",
       "      <th>4</th>\n",
       "      <td>16</td>\n",
       "      <td>0.0</td>\n",
       "    </tr>\n",
       "    <tr>\n",
       "      <th>5</th>\n",
       "      <td>56</td>\n",
       "      <td>0.0</td>\n",
       "    </tr>\n",
       "    <tr>\n",
       "      <th>6</th>\n",
       "      <td>28</td>\n",
       "      <td>1.0</td>\n",
       "    </tr>\n",
       "    <tr>\n",
       "      <th>7</th>\n",
       "      <td>13</td>\n",
       "      <td>0.0</td>\n",
       "    </tr>\n",
       "    <tr>\n",
       "      <th>8</th>\n",
       "      <td>18</td>\n",
       "      <td>1.0</td>\n",
       "    </tr>\n",
       "    <tr>\n",
       "      <th>9</th>\n",
       "      <td>17</td>\n",
       "      <td>1.0</td>\n",
       "    </tr>\n",
       "    <tr>\n",
       "      <th>10</th>\n",
       "      <td>80</td>\n",
       "      <td>0.0</td>\n",
       "    </tr>\n",
       "    <tr>\n",
       "      <th>11</th>\n",
       "      <td>12</td>\n",
       "      <td>0.0</td>\n",
       "    </tr>\n",
       "    <tr>\n",
       "      <th>12</th>\n",
       "      <td>44</td>\n",
       "      <td>1.0</td>\n",
       "    </tr>\n",
       "    <tr>\n",
       "      <th>13</th>\n",
       "      <td>6</td>\n",
       "      <td>0.0</td>\n",
       "    </tr>\n",
       "    <tr>\n",
       "      <th>14</th>\n",
       "      <td>25</td>\n",
       "      <td>1.0</td>\n",
       "    </tr>\n",
       "    <tr>\n",
       "      <th>15</th>\n",
       "      <td>67</td>\n",
       "      <td>0.0</td>\n",
       "    </tr>\n",
       "    <tr>\n",
       "      <th>16</th>\n",
       "      <td>1</td>\n",
       "      <td>0.0</td>\n",
       "    </tr>\n",
       "    <tr>\n",
       "      <th>17</th>\n",
       "      <td>26</td>\n",
       "      <td>1.0</td>\n",
       "    </tr>\n",
       "    <tr>\n",
       "      <th>18</th>\n",
       "      <td>22</td>\n",
       "      <td>NaN</td>\n",
       "    </tr>\n",
       "    <tr>\n",
       "      <th>19</th>\n",
       "      <td>23</td>\n",
       "      <td>1.0</td>\n",
       "    </tr>\n",
       "  </tbody>\n",
       "</table>\n",
       "</div>"
      ],
      "text/plain": [
       "    age  has_facebook_account\n",
       "0    24                   1.0\n",
       "1    21                   1.0\n",
       "2    10                   0.0\n",
       "3    58                   1.0\n",
       "4    16                   0.0\n",
       "5    56                   0.0\n",
       "6    28                   1.0\n",
       "7    13                   0.0\n",
       "8    18                   1.0\n",
       "9    17                   1.0\n",
       "10   80                   0.0\n",
       "11   12                   0.0\n",
       "12   44                   1.0\n",
       "13    6                   0.0\n",
       "14   25                   1.0\n",
       "15   67                   0.0\n",
       "16    1                   0.0\n",
       "17   26                   1.0\n",
       "18   22                   NaN\n",
       "19   23                   1.0"
      ]
     },
     "execution_count": 7,
     "metadata": {},
     "output_type": "execute_result"
    }
   ],
   "source": [
    "#Printing total data\n",
    "\n",
    "data"
   ]
  },
  {
   "cell_type": "markdown",
   "id": "678483e5",
   "metadata": {},
   "source": [
    "#                                             ______D_______"
   ]
  },
  {
   "cell_type": "code",
   "execution_count": 8,
   "id": "e2c1dc13",
   "metadata": {},
   "outputs": [
    {
     "name": "stdout",
     "output_type": "stream",
     "text": [
      "age                     0\n",
      "has_facebook_account    1\n",
      "dtype: int64\n",
      "\n",
      "Total number of missing values in the dataset: 1\n"
     ]
    }
   ],
   "source": [
    "#Total missing number of data\n",
    "\n",
    "print(data.isna().sum())\n",
    "missing_data = data.isnull()\n",
    "num_missing = missing_data.sum().sum()\n",
    "print(\"\\nTotal number of missing values in the dataset:\", num_missing)"
   ]
  },
  {
   "cell_type": "markdown",
   "id": "e4203295",
   "metadata": {},
   "source": [
    "#                                             ______E_______"
   ]
  },
  {
   "cell_type": "code",
   "execution_count": 9,
   "id": "2f358a1a",
   "metadata": {},
   "outputs": [],
   "source": [
    "#Fill missing Data \n",
    "\n",
    "data = data.fillna(data.median())    #filling missing values with the median\n",
    "data.to_csv('New_age_facebook.csv', index=False)    #save the modified dataset to a new file"
   ]
  },
  {
   "cell_type": "code",
   "execution_count": 10,
   "id": "7cbb7049",
   "metadata": {},
   "outputs": [
    {
     "data": {
      "text/html": [
       "<div>\n",
       "<style scoped>\n",
       "    .dataframe tbody tr th:only-of-type {\n",
       "        vertical-align: middle;\n",
       "    }\n",
       "\n",
       "    .dataframe tbody tr th {\n",
       "        vertical-align: top;\n",
       "    }\n",
       "\n",
       "    .dataframe thead th {\n",
       "        text-align: right;\n",
       "    }\n",
       "</style>\n",
       "<table border=\"1\" class=\"dataframe\">\n",
       "  <thead>\n",
       "    <tr style=\"text-align: right;\">\n",
       "      <th></th>\n",
       "      <th>age</th>\n",
       "      <th>has_facebook_account</th>\n",
       "    </tr>\n",
       "  </thead>\n",
       "  <tbody>\n",
       "    <tr>\n",
       "      <th>0</th>\n",
       "      <td>24</td>\n",
       "      <td>1.0</td>\n",
       "    </tr>\n",
       "    <tr>\n",
       "      <th>1</th>\n",
       "      <td>21</td>\n",
       "      <td>1.0</td>\n",
       "    </tr>\n",
       "    <tr>\n",
       "      <th>2</th>\n",
       "      <td>10</td>\n",
       "      <td>0.0</td>\n",
       "    </tr>\n",
       "    <tr>\n",
       "      <th>3</th>\n",
       "      <td>58</td>\n",
       "      <td>1.0</td>\n",
       "    </tr>\n",
       "    <tr>\n",
       "      <th>4</th>\n",
       "      <td>16</td>\n",
       "      <td>0.0</td>\n",
       "    </tr>\n",
       "    <tr>\n",
       "      <th>5</th>\n",
       "      <td>56</td>\n",
       "      <td>0.0</td>\n",
       "    </tr>\n",
       "    <tr>\n",
       "      <th>6</th>\n",
       "      <td>28</td>\n",
       "      <td>1.0</td>\n",
       "    </tr>\n",
       "    <tr>\n",
       "      <th>7</th>\n",
       "      <td>13</td>\n",
       "      <td>0.0</td>\n",
       "    </tr>\n",
       "    <tr>\n",
       "      <th>8</th>\n",
       "      <td>18</td>\n",
       "      <td>1.0</td>\n",
       "    </tr>\n",
       "    <tr>\n",
       "      <th>9</th>\n",
       "      <td>17</td>\n",
       "      <td>1.0</td>\n",
       "    </tr>\n",
       "    <tr>\n",
       "      <th>10</th>\n",
       "      <td>80</td>\n",
       "      <td>0.0</td>\n",
       "    </tr>\n",
       "    <tr>\n",
       "      <th>11</th>\n",
       "      <td>12</td>\n",
       "      <td>0.0</td>\n",
       "    </tr>\n",
       "    <tr>\n",
       "      <th>12</th>\n",
       "      <td>44</td>\n",
       "      <td>1.0</td>\n",
       "    </tr>\n",
       "    <tr>\n",
       "      <th>13</th>\n",
       "      <td>6</td>\n",
       "      <td>0.0</td>\n",
       "    </tr>\n",
       "    <tr>\n",
       "      <th>14</th>\n",
       "      <td>25</td>\n",
       "      <td>1.0</td>\n",
       "    </tr>\n",
       "    <tr>\n",
       "      <th>15</th>\n",
       "      <td>67</td>\n",
       "      <td>0.0</td>\n",
       "    </tr>\n",
       "    <tr>\n",
       "      <th>16</th>\n",
       "      <td>1</td>\n",
       "      <td>0.0</td>\n",
       "    </tr>\n",
       "    <tr>\n",
       "      <th>17</th>\n",
       "      <td>26</td>\n",
       "      <td>1.0</td>\n",
       "    </tr>\n",
       "    <tr>\n",
       "      <th>18</th>\n",
       "      <td>22</td>\n",
       "      <td>1.0</td>\n",
       "    </tr>\n",
       "    <tr>\n",
       "      <th>19</th>\n",
       "      <td>23</td>\n",
       "      <td>1.0</td>\n",
       "    </tr>\n",
       "  </tbody>\n",
       "</table>\n",
       "</div>"
      ],
      "text/plain": [
       "    age  has_facebook_account\n",
       "0    24                   1.0\n",
       "1    21                   1.0\n",
       "2    10                   0.0\n",
       "3    58                   1.0\n",
       "4    16                   0.0\n",
       "5    56                   0.0\n",
       "6    28                   1.0\n",
       "7    13                   0.0\n",
       "8    18                   1.0\n",
       "9    17                   1.0\n",
       "10   80                   0.0\n",
       "11   12                   0.0\n",
       "12   44                   1.0\n",
       "13    6                   0.0\n",
       "14   25                   1.0\n",
       "15   67                   0.0\n",
       "16    1                   0.0\n",
       "17   26                   1.0\n",
       "18   22                   1.0\n",
       "19   23                   1.0"
      ]
     },
     "execution_count": 10,
     "metadata": {},
     "output_type": "execute_result"
    }
   ],
   "source": [
    "#Printing total new data\n",
    "\n",
    "data"
   ]
  },
  {
   "cell_type": "markdown",
   "id": "13577b8d",
   "metadata": {},
   "source": [
    "#                                             ______F_______"
   ]
  },
  {
   "cell_type": "code",
   "execution_count": 11,
   "id": "26ee1206",
   "metadata": {},
   "outputs": [],
   "source": [
    "# Importing essential libraries\n",
    "\n",
    "import matplotlib.pyplot as plt"
   ]
  },
  {
   "cell_type": "code",
   "execution_count": 12,
   "id": "d92c6518",
   "metadata": {},
   "outputs": [
    {
     "data": {
      "image/png": "[encoded data removed]",
      "text/plain": [
       "<Figure size 432x288 with 1 Axes>"
      ]
     },
     "metadata": {
      "needs_background": "light"
     },
     "output_type": "display_data"
    }
   ],
   "source": [
    "# Data Visualization after missing data\n",
    "\n",
    "plt.scatter(data['age'], data['has_facebook_account'])\n",
    "plt.xlabel('age')\n",
    "plt.ylabel('has_facebook_account')\n",
    "plt.title('Facebook Account')\n",
    "plt.show()"
   ]
  },
  {
   "cell_type": "markdown",
   "id": "fc0ae44d",
   "metadata": {},
   "source": [
    "#                                             ______G_______"
   ]
  },
  {
   "cell_type": "code",
   "execution_count": 13,
   "id": "aaebda50",
   "metadata": {},
   "outputs": [
    {
     "name": "stdout",
     "output_type": "stream",
     "text": [
      "\n",
      "Total Facebook Users which age is between 0-14 years = 0.00% \n",
      "\n",
      "Total Facebook Users which age is between 18-28 years = 8.00% \n",
      "\n",
      "Total Facebook Users which age is over 30+ years = 2.00% \n",
      "\n",
      "Total Users which age is between 0-14 years = 5.00% \n",
      "\n",
      "Total Users which age is between 18-28 years = 8.00% \n",
      "\n",
      "Total Users which age is over 30+ years = 5.00% \n",
      "\n",
      "Total Percentage of Facebook Users which age is between 0-14 years = 0.00% \n",
      "\n",
      "Total Percentage of Facebook Users which age is between 18-28 years = 100.00% \n",
      "\n",
      "Total Percentage of Facebook Users which age is over 30+ years = 40.00% \n"
     ]
    }
   ],
   "source": [
    "# Calculate the total count of Facebook users in each age group\n",
    "total_facebook_users_0_14 = data[(data['age'] >= 0) & (data['age'] <= 14)]['has_facebook_account'].sum()\n",
    "total_facebook_users_18_28 = data[(data['age'] >= 18) & (data['age'] <= 28)]['has_facebook_account'].sum()\n",
    "total_facebook_users_30_plus = data[(data['age'] >= 30)]['has_facebook_account'].sum()\n",
    "\n",
    "print('\\nTotal Facebook Users which age is between 0-14 years = {:.2f}% '.format(total_facebook_users_0_14))\n",
    "print('\\nTotal Facebook Users which age is between 18-28 years = {:.2f}% '.format(total_facebook_users_18_28))\n",
    "print('\\nTotal Facebook Users which age is over 30+ years = {:.2f}% '.format(total_facebook_users_30_plus))\n",
    "\n",
    "# Calculate the total count of people in each age group\n",
    "total_people_0_14 = len(data[(data['age'] >= 0) & (data['age'] <= 14)])\n",
    "total_people_18_28 = len(data[(data['age'] >= 18) & (data['age'] <= 28)])\n",
    "total_people_30_plus = len(data[(data['age'] >= 30)])\n",
    "\n",
    "print('\\nTotal Users which age is between 0-14 years = {:.2f}% '.format(total_people_0_14))\n",
    "print('\\nTotal Users which age is between 18-28 years = {:.2f}% '.format(total_people_18_28))\n",
    "print('\\nTotal Users which age is over 30+ years = {:.2f}% '.format(total_people_30_plus))\n",
    "\n",
    "# Calculate the percentages\n",
    "facebook_percentage_0_14 = (total_facebook_users_0_14 / total_people_0_14) * 100\n",
    "facebook_percentage_18_28 = (total_facebook_users_18_28 / total_people_18_28) * 100\n",
    "facebook_percentage_30_plus = (total_facebook_users_30_plus / total_people_30_plus) * 100\n",
    "\n",
    "print('\\nTotal Percentage of Facebook Users which age is between 0-14 years = {:.2f}% '.format(facebook_percentage_0_14))\n",
    "print('\\nTotal Percentage of Facebook Users which age is between 18-28 years = {:.2f}% '.format(facebook_percentage_18_28))\n",
    "print('\\nTotal Percentage of Facebook Users which age is over 30+ years = {:.2f}% '.format(facebook_percentage_30_plus))"
   ]
  },
  {
   "cell_type": "markdown",
   "id": "513f8f2d",
   "metadata": {},
   "source": [
    "#                                             ______H_______"
   ]
  },
  {
   "cell_type": "code",
   "execution_count": 14,
   "id": "7dce0f05",
   "metadata": {},
   "outputs": [
    {
     "data": {
      "image/png": "[encoded data removed]",
      "text/plain": [
       "<Figure size 432x288 with 1 Axes>"
      ]
     },
     "metadata": {},
     "output_type": "display_data"
    }
   ],
   "source": [
    "# Define the data\n",
    "data = pd.DataFrame({\n",
    "    'age': [10, 20, 30, 40, 50],\n",
    "    'has_facebook_account': [True, True, False, True, False]\n",
    "})\n",
    "\n",
    "# Calculate the percentages\n",
    "facebook_percentage_0_14 = data[(data['age'] >= 0) & (data['age'] <= 14)]['has_facebook_account'].mean()\n",
    "facebook_percentage_18_28 = data[(data['age'] >= 18) & (data['age'] <= 28)]['has_facebook_account'].mean()\n",
    "facebook_percentage_30_plus = data[(data['age'] >= 30)]['has_facebook_account'].mean()\n",
    "\n",
    "facebook_percentages = [facebook_percentage_0_14, facebook_percentage_18_28, facebook_percentage_30_plus]\n",
    "\n",
    "# Create a pandas DataFrame with the results\n",
    "df = pd.DataFrame({\n",
    "    'Age Group': ['0 - 14', '18 - 28', '30+'],\n",
    "    'Facebook Users Percentage': facebook_percentages\n",
    "})\n",
    "\n",
    "# Create a pie chart\n",
    "plt.pie(df['Facebook Users Percentage'], labels=df['Age Group'], autopct='%1.1f%%')\n",
    "plt.title('Percentage of Facebook Users by Age Group')\n",
    "plt.show()"
   ]
  },
  {
   "cell_type": "markdown",
   "id": "9f61019b",
   "metadata": {},
   "source": [
    "#                                             ______I_______"
   ]
  },
  {
   "cell_type": "code",
   "execution_count": 15,
   "id": "af284e03",
   "metadata": {},
   "outputs": [],
   "source": [
    "#Import the necessary libraries\n",
    "\n",
    "from sklearn.linear_model import LogisticRegression     # Creating Logistic Regression Model\n",
    "from sklearn.model_selection import train_test_split    # Splitting the dataset into train and test samples\n",
    "from sklearn.metrics import accuracy_score"
   ]
  },
  {
   "cell_type": "code",
   "execution_count": 16,
   "id": "4b63e711",
   "metadata": {},
   "outputs": [],
   "source": [
    "# Choose the input variable and output variable\n",
    "\n",
    "X = data[['age']]\n",
    "y = data['has_facebook_account']"
   ]
  },
  {
   "cell_type": "code",
   "execution_count": 17,
   "id": "a6b14353",
   "metadata": {},
   "outputs": [],
   "source": [
    "X_train, X_test, y_train, y_test = train_test_split(X, y, test_size=0.2, random_state=42)    #split the dataset"
   ]
  },
  {
   "cell_type": "code",
   "execution_count": 18,
   "id": "73a7ef3e",
   "metadata": {},
   "outputs": [],
   "source": [
    "# Create a Logistic regression model\n",
    "\n",
    "model = LogisticRegression()"
   ]
  },
  {
   "cell_type": "code",
   "execution_count": 19,
   "id": "2a6e1cad",
   "metadata": {},
   "outputs": [
    {
     "data": {
      "text/plain": [
       "LogisticRegression()"
      ]
     },
     "execution_count": 19,
     "metadata": {},
     "output_type": "execute_result"
    }
   ],
   "source": [
    "# Train the linear regression model on the training data\n",
    "\n",
    "model.fit(X_train, y_train)"
   ]
  },
  {
   "cell_type": "code",
   "execution_count": 20,
   "id": "dfde0152",
   "metadata": {},
   "outputs": [
    {
     "name": "stdout",
     "output_type": "stream",
     "text": [
      "Prediction Result =  [ True]\n"
     ]
    }
   ],
   "source": [
    "# Use the trained model to make predictions on the test data\n",
    "\n",
    "y_pred = model.predict(X_test)\n",
    "print('Prediction Result = ',y_pred)"
   ]
  },
  {
   "cell_type": "markdown",
   "id": "2602e7e0",
   "metadata": {},
   "source": [
    "#                                             ______J_______"
   ]
  },
  {
   "cell_type": "code",
   "execution_count": 21,
   "id": "452a59a4",
   "metadata": {},
   "outputs": [
    {
     "name": "stdout",
     "output_type": "stream",
     "text": [
      "Predict Facebook Account for 7 years of age: True\n",
      "Predict Facebook Account for 29 years of age: True\n",
      "Predict Facebook Account for 79 years of age: False\n"
     ]
    }
   ],
   "source": [
    "# Predict Facebook Account for the three persons given age 7, 29 and 79 in the dataset\n",
    "\n",
    "new_data = pd.DataFrame({'age': [7, 29, 79]})\n",
    "Has_Facebook_Account = model.predict(new_data)\n",
    "print('Predict Facebook Account for 7 years of age:', Has_Facebook_Account[0])\n",
    "print('Predict Facebook Account for 29 years of age:', Has_Facebook_Account[1])\n",
    "print('Predict Facebook Account for 79 years of age:', Has_Facebook_Account[2])"
   ]
  },
  {
   "cell_type": "markdown",
   "id": "e8490aff",
   "metadata": {},
   "source": [
    "#                                             ______K_______"
   ]
  },
  {
   "cell_type": "code",
   "execution_count": 22,
   "id": "e15dfba0",
   "metadata": {},
   "outputs": [
    {
     "name": "stdout",
     "output_type": "stream",
     "text": [
      "Accuracy: 1.0\n"
     ]
    }
   ],
   "source": [
    "# Calculate accuracy\n",
    "accuracy = accuracy_score(y_test, y_pred)\n",
    "print(\"Accuracy:\", accuracy)"
   ]
  }
 ],
 "metadata": {
  "kernelspec": {
   "display_name": "Python 3 (ipykernel)",
   "language": "python",
   "name": "python3"
  },
  "language_info": {
   "codemirror_mode": {
    "name": "ipython",
    "version": 3
   },
   "file_extension": ".py",
   "mimetype": "text/x-python",
   "name": "python",
   "nbconvert_exporter": "python",
   "pygments_lexer": "ipython3",
   "version": "3.9.7"
  }
 },
 "nbformat": 4,
 "nbformat_minor": 5
}
