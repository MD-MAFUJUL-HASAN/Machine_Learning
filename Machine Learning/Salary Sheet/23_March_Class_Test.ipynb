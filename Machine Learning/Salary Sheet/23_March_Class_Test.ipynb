{
 "cells": [
  {
   "cell_type": "markdown",
   "id": "092640f4",
   "metadata": {},
   "source": [
    "#                                             ______A_______"
   ]
  },
  {
   "cell_type": "code",
   "execution_count": 1,
   "id": "db3bb8ad",
   "metadata": {},
   "outputs": [
    {
     "name": "stdout",
     "output_type": "stream",
     "text": [
      "Name : MD MAFUJUL HASAN\n",
      "ID : CSE1903018137\n",
      "Section : 18A\n",
      "Course Code : CSE423\n",
      "Course Title : Simulation & Modeling\n"
     ]
    }
   ],
   "source": [
    "#Print name,id,section,course code and course title\n",
    "\n",
    "print('Name : MD MAFUJUL HASAN')\n",
    "print('ID : CSE1903018137')\n",
    "print('Section : 18A')\n",
    "print('Course Code : CSE423')\n",
    "print('Course Title : Simulation & Modeling')"
   ]
  },
  {
   "cell_type": "code",
   "execution_count": 2,
   "id": "715ecea5",
   "metadata": {},
   "outputs": [],
   "source": [
    "#Importing essential libraries\n",
    "\n",
    "import numpy as np\n",
    "import pandas as pd"
   ]
  },
  {
   "cell_type": "markdown",
   "id": "e218444c",
   "metadata": {},
   "source": [
    "#                                             ______B_______"
   ]
  },
  {
   "cell_type": "code",
   "execution_count": 3,
   "id": "2ccbdcbc",
   "metadata": {},
   "outputs": [],
   "source": [
    "#Loading the dataset\n",
    "\n",
    "data=pd.read_csv(\"Salary_Expectation.csv\")"
   ]
  },
  {
   "cell_type": "code",
   "execution_count": 5,
   "id": "eb33641e",
   "metadata": {},
   "outputs": [
    {
     "name": "stdout",
     "output_type": "stream",
     "text": [
      "   Experience  Expected_Salary\n",
      "0           5          25000.0\n",
      "1          24          99000.0\n",
      "2          10          45800.0\n"
     ]
    }
   ],
   "source": [
    "print(data.head(3))  # displays the first 3 rows of the dataset"
   ]
  },
  {
   "cell_type": "markdown",
   "id": "e0a85853",
   "metadata": {},
   "source": [
    "#                                             ______C_______"
   ]
  },
  {
   "cell_type": "code",
   "execution_count": 6,
   "id": "c29ccee7",
   "metadata": {},
   "outputs": [
    {
     "name": "stdout",
     "output_type": "stream",
     "text": [
      "(10, 2)\n"
     ]
    }
   ],
   "source": [
    "    # Exploring the Dataset\n",
    "#Returns number of rows and columns of the dataset\n",
    "\n",
    "print(data.shape)"
   ]
  },
  {
   "cell_type": "code",
   "execution_count": 7,
   "id": "54e47600",
   "metadata": {},
   "outputs": [
    {
     "name": "stdout",
     "output_type": "stream",
     "text": [
      "   Experience  Expected_Salary\n",
      "0           5          25000.0\n",
      "1          24          99000.0\n",
      "2          10          45800.0\n",
      "3          12              NaN\n",
      "4           2          18000.0\n",
      "5          20          80000.0\n",
      "6           7              NaN\n",
      "7          14          52500.0\n",
      "8          22          88700.0\n",
      "9           3          20000.0\n"
     ]
    }
   ],
   "source": [
    "#Printing total data\n",
    "\n",
    "print(data)"
   ]
  },
  {
   "cell_type": "markdown",
   "id": "91e4a4ac",
   "metadata": {},
   "source": [
    "#                                             ______D_______"
   ]
  },
  {
   "cell_type": "code",
   "execution_count": 8,
   "id": "d5c7a60c",
   "metadata": {},
   "outputs": [
    {
     "name": "stdout",
     "output_type": "stream",
     "text": [
      "Total number of missing values in the dataset: 2\n"
     ]
    }
   ],
   "source": [
    "#Total missing number of data\n",
    "\n",
    "missing_data = data.isnull()\n",
    "num_missing = missing_data.sum().sum()\n",
    "print(\"Total number of missing values in the dataset:\", num_missing)"
   ]
  },
  {
   "cell_type": "markdown",
   "id": "e927b14e",
   "metadata": {},
   "source": [
    "#                                             ______E_______"
   ]
  },
  {
   "cell_type": "code",
   "execution_count": 13,
   "id": "e12ca391",
   "metadata": {},
   "outputs": [
    {
     "name": "stdout",
     "output_type": "stream",
     "text": [
      "   Experience  Expected_Salary\n",
      "0           5          25000.0\n",
      "1          24          99000.0\n",
      "2          10          45800.0\n",
      "3          12          53625.0\n",
      "4           2          18000.0\n",
      "5          20          80000.0\n",
      "6           7          53625.0\n",
      "7          14          52500.0\n",
      "8          22          88700.0\n",
      "9           3          20000.0\n"
     ]
    }
   ],
   "source": [
    "#Fill missing Data \n",
    "\n",
    "columns_with_missing_values = data.columns[data.isnull().any()]     #Identify the columns that contain missing values\n",
    "for column in columns_with_missing_values:\n",
    "    data[column].fillna(data[column].mean(), inplace=True)    #filling missing values with the mean\n",
    "data.to_csv('New_Salary_Expectation.csv', index=False)    #save the modified dataset to a new file\n",
    "\n",
    "#Printing total new data\n",
    "\n",
    "print(data)"
   ]
  },
  {
   "cell_type": "markdown",
   "id": "6fe85427",
   "metadata": {},
   "source": [
    "#                                             ______F_______"
   ]
  },
  {
   "cell_type": "code",
   "execution_count": 15,
   "id": "740cbd25",
   "metadata": {},
   "outputs": [],
   "source": [
    "# Importing essential libraries\n",
    "\n",
    "import matplotlib.pyplot as plt"
   ]
  },
  {
   "cell_type": "code",
   "execution_count": 17,
   "id": "de95bc41",
   "metadata": {},
   "outputs": [
    {
     "data": {
      "image/png": "[encoded data removed]",
      "text/plain": [
       "<Figure size 432x288 with 1 Axes>"
      ]
     },
     "metadata": {
      "needs_background": "light"
     },
     "output_type": "display_data"
    }
   ],
   "source": [
    "# Data Visualization after missing data\n",
    "\n",
    "plt.scatter(data['Experience'], data['Expected_Salary'])\n",
    "plt.xlabel('Experience')\n",
    "plt.ylabel('Expected_Salary')\n",
    "plt.title('Salary Sheet')\n",
    "plt.show()"
   ]
  },
  {
   "cell_type": "markdown",
   "id": "b835c69a",
   "metadata": {},
   "source": [
    "#                                             ______G_______"
   ]
  },
  {
   "cell_type": "code",
   "execution_count": 18,
   "id": "edc11b5c",
   "metadata": {},
   "outputs": [],
   "source": [
    "#Import the necessary libraries\n",
    "\n",
    "from sklearn.linear_model import LinearRegression     # Creating Linear Regression Model\n",
    "from sklearn.model_selection import train_test_split    # Splitting the dataset into train and test samples\n",
    "from sklearn.metrics import mean_squared_error          #as a measure of the performance of the model"
   ]
  },
  {
   "cell_type": "code",
   "execution_count": 20,
   "id": "c2e85dc1",
   "metadata": {},
   "outputs": [],
   "source": [
    "# Choose the input variable and output variable\n",
    "\n",
    "X = data[['Experience']]\n",
    "y = data['Expected_Salary']"
   ]
  },
  {
   "cell_type": "code",
   "execution_count": 21,
   "id": "552fd217",
   "metadata": {},
   "outputs": [],
   "source": [
    "X_train, X_test, y_train, y_test = train_test_split(X, y, test_size=0.30, random_state=1)    #split the dataset"
   ]
  },
  {
   "cell_type": "code",
   "execution_count": 22,
   "id": "34d5c592",
   "metadata": {},
   "outputs": [],
   "source": [
    "# Create a linear regression model\n",
    "\n",
    "model = LinearRegression()"
   ]
  },
  {
   "cell_type": "code",
   "execution_count": 23,
   "id": "c929187b",
   "metadata": {},
   "outputs": [
    {
     "data": {
      "text/plain": [
       "LinearRegression()"
      ]
     },
     "execution_count": 23,
     "metadata": {},
     "output_type": "execute_result"
    }
   ],
   "source": [
    "# Train the linear regression model on the training data\n",
    "\n",
    "model.fit(X_train, y_train)"
   ]
  },
  {
   "cell_type": "code",
   "execution_count": 24,
   "id": "90941d4e",
   "metadata": {},
   "outputs": [],
   "source": [
    "# Use the trained model to make predictions on the test data\n",
    "\n",
    "y_pred = model.predict(X_test)"
   ]
  },
  {
   "cell_type": "code",
   "execution_count": 25,
   "id": "c867ee20",
   "metadata": {},
   "outputs": [
    {
     "name": "stdout",
     "output_type": "stream",
     "text": [
      "Mean squared error: 138039762.9176273\n"
     ]
    }
   ],
   "source": [
    "# Evaluate the performance of the model\n",
    "\n",
    "mse = mean_squared_error(y_test, y_pred)\n",
    "print('Mean squared error:', mse)"
   ]
  },
  {
   "cell_type": "markdown",
   "id": "898cce81",
   "metadata": {},
   "source": [
    "#                                             ______H_______"
   ]
  },
  {
   "cell_type": "code",
   "execution_count": 26,
   "id": "af144a35",
   "metadata": {},
   "outputs": [
    {
     "name": "stdout",
     "output_type": "stream",
     "text": [
      "Expected salary for 12 years of experience: 51692.64656895403\n",
      "Expected salary for 7 years of experience: 33367.155229846765\n"
     ]
    }
   ],
   "source": [
    "# Predict the expected salary for the two persons given experience year 12 and 7 in the dataset\n",
    "\n",
    "new_data = pd.DataFrame({'Experience': [12, 7]})\n",
    "Expected_Salary = model.predict(new_data)\n",
    "print('Expected salary for 12 years of experience:', Expected_Salary[0])\n",
    "print('Expected salary for 7 years of experience:', Expected_Salary[1])"
   ]
  },
  {
   "cell_type": "markdown",
   "id": "75feea69",
   "metadata": {},
   "source": [
    "#                                             ______I_______"
   ]
  },
  {
   "cell_type": "code",
   "execution_count": 29,
   "id": "3bc0cf08",
   "metadata": {},
   "outputs": [
    {
     "name": "stdout",
     "output_type": "stream",
     "text": [
      "Mean squared error: 138039762.9176273\n",
      "R-squared: 0.3311707445870674\n"
     ]
    }
   ],
   "source": [
    "#Find Accuracy For regression models\n",
    "\n",
    "from sklearn.metrics import mean_squared_error, r2_score\n",
    "\n",
    "# y_test is the true labels, y_pred is the predicted labels\n",
    "mse = mean_squared_error(y_test, y_pred)\n",
    "r2 = r2_score(y_test, y_pred)\n",
    "\n",
    "print('Mean squared error:', mse)\n",
    "print('R-squared:', r2)\n"
   ]
  },
  {
   "cell_type": "markdown",
   "id": "a5503254",
   "metadata": {},
   "source": [
    "#                                             ______J_______"
   ]
  },
  {
   "cell_type": "code",
   "execution_count": 31,
   "id": "d65f839e",
   "metadata": {},
   "outputs": [
    {
     "name": "stdout",
     "output_type": "stream",
     "text": [
      "Average salary for persons with 0-3 years of experience: 19000.0\n"
     ]
    }
   ],
   "source": [
    "#Calculation Average Salary for the persons which experience is between 0-3 years\n",
    "\n",
    "filtered_data = data[(data['Experience'] >= 0) & (data['Experience'] <= 3)]    # Filter the dataset\n",
    "average_salary = filtered_data['Expected_Salary'].mean()\n",
    "\n",
    "print('Average salary for persons with 0-3 years of experience:', average_salary)"
   ]
  },
  {
   "cell_type": "code",
   "execution_count": 32,
   "id": "18ace14d",
   "metadata": {},
   "outputs": [
    {
     "name": "stdout",
     "output_type": "stream",
     "text": [
      "Average salary for persons with 7-15 years of experience: 51387.5\n"
     ]
    }
   ],
   "source": [
    "#Calculation Average Salary for the persons which experience is between 7-15 years\n",
    "\n",
    "filtered_data = data[(data['Experience'] >= 7) & (data['Experience'] <= 15)]    # Filter the dataset\n",
    "average_salary = filtered_data['Expected_Salary'].mean()\n",
    "\n",
    "print('Average salary for persons with 7-15 years of experience:', average_salary)"
   ]
  },
  {
   "cell_type": "code",
   "execution_count": 33,
   "id": "2ccf668f",
   "metadata": {},
   "outputs": [
    {
     "name": "stdout",
     "output_type": "stream",
     "text": [
      "Average salary for persons with 18+ years of experience: 89233.33333333333\n"
     ]
    }
   ],
   "source": [
    "#Calculation Average Salary for the persons which experience is between 18+ years\n",
    "\n",
    "filtered_data = data[(data['Experience'] >= 18)]    # Filter the dataset\n",
    "average_salary = filtered_data['Expected_Salary'].mean()\n",
    "\n",
    "print('Average salary for persons with 18+ years of experience:', average_salary)"
   ]
  },
  {
   "cell_type": "code",
   "execution_count": null,
   "id": "848717be",
   "metadata": {},
   "outputs": [],
   "source": []
  }
 ],
 "metadata": {
  "kernelspec": {
   "display_name": "Python 3 (ipykernel)",
   "language": "python",
   "name": "python3"
  },
  "language_info": {
   "codemirror_mode": {
    "name": "ipython",
    "version": 3
   },
   "file_extension": ".py",
   "mimetype": "text/x-python",
   "name": "python",
   "nbconvert_exporter": "python",
   "pygments_lexer": "ipython3",
   "version": "3.9.7"
  }
 },
 "nbformat": 4,
 "nbformat_minor": 5
}
